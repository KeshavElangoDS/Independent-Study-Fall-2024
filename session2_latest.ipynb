{
 "cells": [
  {
   "cell_type": "markdown",
   "metadata": {},
   "source": [
    "# Session 2 (Fall 2024)"
   ]
  },
  {
   "cell_type": "markdown",
   "metadata": {},
   "source": [
    "## Outline\n",
    "\n",
    "- Review\n",
    "\n",
    "  * Geometric distribution: Coupon Collection\n",
    "  * Hash functions\n",
    "  * Universal Hash Families\n",
    "\n",
    "- Similarity and Minhashing\n",
    "\n",
    "  * Jaccard similarity and distance\n",
    "  * Minhashing\n",
    "    \n",
    "- Locality Sensitive Hashing\n",
    "\n",
    "  * Banding signatures\n",
    "  * S-curves\n"
   ]
  },
  {
   "cell_type": "code",
   "execution_count": 1,
   "metadata": {},
   "outputs": [],
   "source": [
    "import numpy as np\n",
    "import pandas as pd\n",
    "\n",
    "rng = np.random.default_rng()"
   ]
  },
  {
   "cell_type": "markdown",
   "metadata": {},
   "source": [
    "## Review: Geometric Distribution\n",
    "\n",
    "> Start with a coin where the probability of Heads is $p$\n",
    "\n",
    "Geometric RV: Number of independent coin tosses before Heads appears for the first time.\n",
    "\n",
    "- Expected Value? Variance?\n",
    "\n",
    "- How to sample from a geometric distribution?\n",
    "\n",
    "- **Class Problem 1**\n",
    "\n",
    "- Example Application: The Coupon Collector problem!\n",
    "\n",
    "- Validating the algorithm for counting distinct items in a stream\n",
    "\n"
   ]
  },
  {
   "cell_type": "markdown",
   "metadata": {
    "tags": []
   },
   "source": [
    "## Coupon Collector Problem\n",
    "\n",
    "Another gem from probability theory with lots of applications! There are $n$ different types of coupons and each time you visit the store, you get one coupon (of some type) with uniform probability. How many visits to the store are required before you get *each* different type of coupon for the first time? \n",
    "\n",
    "**Simulation:** Mimic the coupon collection problem for $n=50$ and repeat the experiment (of collecting all $n$ coupons) 1000 times and plot the mean number of store visits. See anything interesting? You can analyze this exactly using an interesting summation called the **Harmonic sum**:\n",
    "\n",
    "$$H_n = 1 + \\frac{1}{2} + \\ldots + \\frac{1}{n}$$\n",
    "\n",
    "which is almost exactly (upto an additive constant called Euler's constant) equal to $\\ln n$. Hence, the number of store visits on average, is $n (\\ln n + 0.577)$.\n"
   ]
  },
  {
   "cell_type": "markdown",
   "metadata": {},
   "source": [
    "## Simulating Coupon Collection for $n=50$\n",
    "\n",
    "- The first visit always yields an unseen coupon.\n",
    "\n",
    "- To collect the next new coupon, we simulate a geometric rv with $p=49/50$.\n",
    "\n",
    "- Continue this 49 times, with $p$ decreasing by $1/50$ each time.\n",
    "\n",
    "**Trick:** Instead of tossing coins to mimic a geometric rv, we can get an appropriate value with just one randomly generated number between 0 and 1!"
   ]
  },
  {
   "cell_type": "code",
   "execution_count": 2,
   "metadata": {},
   "outputs": [
    {
     "name": "stdout",
     "output_type": "stream",
     "text": [
      "0.23073437054636436\n"
     ]
    },
    {
     "data": {
      "text/plain": [
       "6"
      ]
     },
     "execution_count": 2,
     "metadata": {},
     "output_type": "execute_result"
    }
   ],
   "source": [
    "## Simulate a geometric rv\n",
    "q = 0.75\n",
    "rand_val = rng.random()\n",
    "print(rand_val)\n",
    "x = int(np.ceil(np.log(rand_val)/np.log(q)))\n",
    "x"
   ]
  },
  {
   "cell_type": "code",
   "execution_count": 3,
   "metadata": {},
   "outputs": [],
   "source": [
    "## Simulate 1000 trials of coupon collection for 50 coupons\n",
    "\n",
    "experiment = rng.random((1000, 50))"
   ]
  },
  {
   "cell_type": "code",
   "execution_count": 4,
   "metadata": {},
   "outputs": [
    {
     "data": {
      "text/plain": [
       "array([[0.13705405, 0.9523082 , 0.97093041],\n",
       "       [0.73995789, 0.69931634, 0.59918745]])"
      ]
     },
     "execution_count": 4,
     "metadata": {},
     "output_type": "execute_result"
    }
   ],
   "source": [
    "experiment[:2,:3]"
   ]
  },
  {
   "cell_type": "markdown",
   "metadata": {},
   "source": [
    "### Hashing\n",
    "\n",
    "- Hash functions: keys are hashed to buckets \n",
    "- Open-addressing (one key per bucket)\n",
    "- Hashing with chaining (colliding keys chained in bucket)\n",
    "- Assumptions: uniform hashing\n",
    "- Used very widely to construct efficient data structures for storing big data (indexes)."
   ]
  },
  {
   "cell_type": "markdown",
   "metadata": {},
   "source": [
    "#### Collision\n",
    "\n",
    "> Occurs when keys $x \\not= y$ end up hashing to the same slot! $$h(x) = h(y)$$\n",
    "\n",
    "- Collisions are inevitable, especially when we have no prior knowledge of $V$. \n",
    "\n",
    "- Distribution of the number of keys that collide in different slots can vary wildly!\n",
    "\n",
    "> **Ideal distribution:** collisions distributed *uniformly*."
   ]
  },
  {
   "cell_type": "code",
   "execution_count": 5,
   "metadata": {},
   "outputs": [],
   "source": [
    "# Examples of hash functions\n",
    "\n",
    "def h(key, m):\n",
    "    \"\"\"Returns slot index for key\n",
    "    \n",
    "    Args:\n",
    "        key (int): number to be hashed\n",
    "        m (int): table size    \n",
    "    \"\"\"\n",
    "    return key % m\n",
    "\n",
    "def g(d, s):\n",
    "    \"\"\"Returns 32-bit number as slot index\n",
    "    \n",
    "    Uses the FNV algorithm from http://isthe.com/chongo/tech/comp/fnv/ \n",
    "    \n",
    "    Args:\n",
    "        d (int)\n",
    "        s (str): key to be hashed\n",
    "    \n",
    "    \"\"\"\n",
    "    if d == 0: \n",
    "        d = 0x01000193\n",
    "    for c in s:\n",
    "        d = ( (d * 0x01000193) ^ ord(c) ) & 0xffffffff\n",
    "    return d"
   ]
  },
  {
   "cell_type": "code",
   "execution_count": 6,
   "metadata": {},
   "outputs": [
    {
     "data": {
      "text/plain": [
       "1542760701"
      ]
     },
     "execution_count": 6,
     "metadata": {},
     "output_type": "execute_result"
    }
   ],
   "source": [
    "g(0, 'Jaden')"
   ]
  },
  {
   "cell_type": "markdown",
   "metadata": {},
   "source": [
    "### Universal hash family\n",
    "\n",
    "We start by defining a universal family of **hash functions**. This a family with the property that:\n",
    "\n",
    "> for any pair of keys in the universe of keys (i.e. $U$), a hash function drawn uniformly at random from the family will cause the keys to collide with an expected probability of $1/m$, where $m$ is the table size.\n",
    "\n",
    "Let $p$ be a large prime, and let $a, b$ be random integers chosen uniformly such that $1 \\leq a \\leq p-1$ and $0 \\leq b \\leq p-1$."
   ]
  },
  {
   "cell_type": "code",
   "execution_count": 7,
   "metadata": {
    "tags": []
   },
   "outputs": [],
   "source": [
    "\n",
    "class UHF:\n",
    "    \"\"\"A factory for producing a universal family of hash functions\"\"\"\n",
    "\n",
    "    @staticmethod\n",
    "    def is_prime(k):\n",
    "        if k%2==0:\n",
    "            return False\n",
    "        for i in range(3, int(np.sqrt(k)), 2):\n",
    "            if k%i == 0:\n",
    "                return False\n",
    "        return True\n",
    "    \n",
    "    def __init__(self, n):\n",
    "        \"\"\"Universe size is n\"\"\"\n",
    "        self.n = n\n",
    "        self.rng = np.random.default_rng()\n",
    "        if n%2==0:\n",
    "            m = n+1\n",
    "        else:\n",
    "            m = n+2\n",
    "        while not(UHF.is_prime(m)):\n",
    "            m = m+2\n",
    "        self.p = m\n",
    "        \n",
    "    def make_hash(self, m):\n",
    "        \"\"\"Return a random hash function\n",
    "        \n",
    "        m: table size\n",
    "        \"\"\"\n",
    "        a = rng.integers(1,self.p)\n",
    "        b = rng.integers(0,self.p)\n",
    "        return lambda k: ((a*k+b)%self.p)%m"
   ]
  },
  {
   "cell_type": "code",
   "execution_count": 8,
   "metadata": {},
   "outputs": [],
   "source": [
    "factory = UHF(1000000)"
   ]
  },
  {
   "cell_type": "code",
   "execution_count": 9,
   "metadata": {},
   "outputs": [
    {
     "data": {
      "text/plain": [
       "1000003"
      ]
     },
     "execution_count": 9,
     "metadata": {},
     "output_type": "execute_result"
    }
   ],
   "source": [
    "factory.p"
   ]
  },
  {
   "cell_type": "markdown",
   "metadata": {},
   "source": [
    "### Test the Universal Hash Family (Exercise)\n",
    "\n",
    "Set up and evaluate an experiment to verify that the family defined above is indeed a universal family. Use a reasonable universe of keys, say integers in $range(1000000)$ and a hash table of size $5000$. \n",
    "\n",
    "- Fix two keys at random\n",
    "- Generate a lot of hash functions and see how many of them collide "
   ]
  },
  {
   "cell_type": "code",
   "execution_count": 10,
   "metadata": {},
   "outputs": [
    {
     "name": "stdout",
     "output_type": "stream",
     "text": [
      "675777\n",
      "153443\n",
      "3\n"
     ]
    }
   ],
   "source": [
    "key1 = rng.integers(0, 1000000)\n",
    "print(key1)\n",
    "key2 = rng.integers(0, 1000000)\n",
    "print(key2)\n",
    "num_collisions = 0\n",
    "factory = UHF(1000000)\n",
    "for _ in range(10000):\n",
    "    hash_fn = factory.make_hash(5000)\n",
    "    if hash_fn(key1) == hash_fn(key2):\n",
    "        num_collisions += 1\n",
    "print(num_collisions)"
   ]
  },
  {
   "cell_type": "markdown",
   "metadata": {},
   "source": [
    "### Universal hash families\n",
    "\n",
    "We start by defining a universal family of **hash functions**. This is a family with the following property:\n",
    "\n",
    "> Fix a pair of distinct keys in $U$. Then, a function *drawn uniformly at random* from the family will cause the keys to collide with an **expected probability** of $1/m$."
   ]
  },
  {
   "cell_type": "markdown",
   "metadata": {},
   "source": [
    "## Similarity and Minhashing"
   ]
  },
  {
   "cell_type": "markdown",
   "metadata": {},
   "source": [
    "### Data Mining\n",
    "\n",
    "Given lots of data, discover patterns and models that are:\n",
    "\n",
    "- **Valid:**  hold on new data with some certainty\n",
    "- **Useful:**  should be possible to act on the item \n",
    "- **Unexpected:**  non-obvious to the system\n",
    "- **Understandable:** humans should be able to interpret the pattern"
   ]
  },
  {
   "cell_type": "markdown",
   "metadata": {},
   "source": [
    "#### Data as Feature Matrices\n",
    "\n",
    "- Each data item is generically referred to as a **document**\n",
    "\n",
    "- In the simplest case, documents are *characterized* by the presence or absence of *binary* features (indicated by 0 and 1), i.e., the data is the **characteristic matrix** of the features.\n"
   ]
  },
  {
   "cell_type": "code",
   "execution_count": 11,
   "metadata": {},
   "outputs": [],
   "source": [
    "characters = pd.DataFrame({'Hermione': [1,0,0,1,1,0,1],\n",
    "                           'Harry': [0,0,1,1,1,0,1],\n",
    "                           'Ron': [1,1,0,0,0,1,1],\n",
    "                           'Severus': [1,0,0,0,0,1,1]})\n",
    "                           \n",
    "                           "
   ]
  },
  {
   "cell_type": "code",
   "execution_count": 12,
   "metadata": {},
   "outputs": [
    {
     "data": {
      "text/html": [
       "<div>\n",
       "<style scoped>\n",
       "    .dataframe tbody tr th:only-of-type {\n",
       "        vertical-align: middle;\n",
       "    }\n",
       "\n",
       "    .dataframe tbody tr th {\n",
       "        vertical-align: top;\n",
       "    }\n",
       "\n",
       "    .dataframe thead th {\n",
       "        text-align: right;\n",
       "    }\n",
       "</style>\n",
       "<table border=\"1\" class=\"dataframe\">\n",
       "  <thead>\n",
       "    <tr style=\"text-align: right;\">\n",
       "      <th></th>\n",
       "      <th>Hermione</th>\n",
       "      <th>Harry</th>\n",
       "      <th>Ron</th>\n",
       "      <th>Severus</th>\n",
       "    </tr>\n",
       "  </thead>\n",
       "  <tbody>\n",
       "    <tr>\n",
       "      <th>0</th>\n",
       "      <td>1</td>\n",
       "      <td>0</td>\n",
       "      <td>1</td>\n",
       "      <td>1</td>\n",
       "    </tr>\n",
       "    <tr>\n",
       "      <th>1</th>\n",
       "      <td>0</td>\n",
       "      <td>0</td>\n",
       "      <td>1</td>\n",
       "      <td>0</td>\n",
       "    </tr>\n",
       "    <tr>\n",
       "      <th>2</th>\n",
       "      <td>0</td>\n",
       "      <td>1</td>\n",
       "      <td>0</td>\n",
       "      <td>0</td>\n",
       "    </tr>\n",
       "    <tr>\n",
       "      <th>3</th>\n",
       "      <td>1</td>\n",
       "      <td>1</td>\n",
       "      <td>0</td>\n",
       "      <td>0</td>\n",
       "    </tr>\n",
       "    <tr>\n",
       "      <th>4</th>\n",
       "      <td>1</td>\n",
       "      <td>1</td>\n",
       "      <td>0</td>\n",
       "      <td>0</td>\n",
       "    </tr>\n",
       "    <tr>\n",
       "      <th>5</th>\n",
       "      <td>0</td>\n",
       "      <td>0</td>\n",
       "      <td>1</td>\n",
       "      <td>1</td>\n",
       "    </tr>\n",
       "    <tr>\n",
       "      <th>6</th>\n",
       "      <td>1</td>\n",
       "      <td>1</td>\n",
       "      <td>1</td>\n",
       "      <td>1</td>\n",
       "    </tr>\n",
       "  </tbody>\n",
       "</table>\n",
       "</div>"
      ],
      "text/plain": [
       "   Hermione  Harry  Ron  Severus\n",
       "0         1      0    1        1\n",
       "1         0      0    1        0\n",
       "2         0      1    0        0\n",
       "3         1      1    0        0\n",
       "4         1      1    0        0\n",
       "5         0      0    1        1\n",
       "6         1      1    1        1"
      ]
     },
     "execution_count": 12,
     "metadata": {},
     "output_type": "execute_result"
    }
   ],
   "source": [
    "characters"
   ]
  },
  {
   "cell_type": "markdown",
   "metadata": {},
   "source": [
    "### Jaccard Similarity\n",
    "\n",
    "Jaccard *similarity* between two documents $D_i$ and $D_j$ equals \n",
    "$$ \\mbox{SIM}(i,j) = \\frac{|D_i \\cap D_j|}{|D_i \\cup D_j|}.$$\n",
    "\n"
   ]
  },
  {
   "cell_type": "code",
   "execution_count": 13,
   "metadata": {},
   "outputs": [],
   "source": [
    "f_matrix = characters.to_numpy()"
   ]
  },
  {
   "cell_type": "markdown",
   "metadata": {},
   "source": [
    "**Question:** What is the Jaccard similarity between `Harry` and `Hermione`? Between `Severus` and `Ron`?"
   ]
  },
  {
   "cell_type": "markdown",
   "metadata": {},
   "source": [
    "#### Compressing a document's representation: Minhash Signatures\n",
    "\n",
    "Choose a *random* permutation $p$ of the features. A **minhash signature** \n",
    "$${\\mbox{sign}}_p(i)$$\n",
    "for document $D_i$ using permutation $p$ is obtained as follows:\n",
    "\n",
    "- recall that the document is a feature vector in the original order of features\n",
    "- **Reorder** the feature vector according to the permutation $p$\n",
    "- Among all features present in the document, determine the one with the **smallest index in the new ordering**! This index is the signature for the document."
   ]
  },
  {
   "cell_type": "markdown",
   "metadata": {},
   "source": [
    "#### Example"
   ]
  },
  {
   "cell_type": "code",
   "execution_count": 14,
   "metadata": {},
   "outputs": [
    {
     "data": {
      "text/plain": [
       "array([[1, 0, 1, 1],\n",
       "       [0, 0, 1, 0],\n",
       "       [0, 1, 0, 0],\n",
       "       [1, 1, 0, 0],\n",
       "       [1, 1, 0, 0],\n",
       "       [0, 0, 1, 1],\n",
       "       [1, 1, 1, 1]])"
      ]
     },
     "execution_count": 14,
     "metadata": {},
     "output_type": "execute_result"
    }
   ],
   "source": [
    "f_matrix = characters.to_numpy()\n",
    "f_matrix"
   ]
  },
  {
   "cell_type": "markdown",
   "metadata": {},
   "source": [
    "For our example above, consider document `Hermione` with feature vector \n",
    "$$[1,0,0,1,1,0,1]$$ (the first column above).\n",
    "\n",
    "Consider the *permutation* of the **feature indices** given by \n",
    "$$[3,1,0,6,2,5,4].$$\n",
    "\n",
    "This says that feature 3 will be numbered 0, feature 1 still numbered 1, feature 0 numbered 2 and so on. Hence, the permutation will **reorder** document `Hermione` as\n",
    "$$[\\underline{1},0,1,1,0,0,1]$$\n",
    "e.g. the underlined 1 at the new index **0**, corresponds to the original feature number 3. \n",
    "\n",
    "If we apply the permutation across all characters (columns), we get:"
   ]
  },
  {
   "cell_type": "code",
   "execution_count": 15,
   "metadata": {},
   "outputs": [
    {
     "data": {
      "text/plain": [
       "array([[1, 1, 0, 0],\n",
       "       [0, 0, 1, 0],\n",
       "       [1, 0, 1, 1],\n",
       "       [1, 1, 1, 1],\n",
       "       [0, 1, 0, 0],\n",
       "       [0, 0, 1, 1],\n",
       "       [1, 1, 0, 0]])"
      ]
     },
     "execution_count": 15,
     "metadata": {},
     "output_type": "execute_result"
    }
   ],
   "source": [
    "perm = [3,1,0,6,2,5,4]\n",
    "perm_mat = np.take(f_matrix, perm, axis=0)\n",
    "perm_mat"
   ]
  },
  {
   "cell_type": "code",
   "execution_count": 16,
   "metadata": {},
   "outputs": [
    {
     "data": {
      "text/plain": [
       "array([[1, 0, 1, 1],\n",
       "       [0, 0, 1, 0],\n",
       "       [0, 1, 0, 0],\n",
       "       [1, 1, 0, 0],\n",
       "       [1, 1, 0, 0],\n",
       "       [0, 0, 1, 1],\n",
       "       [1, 1, 1, 1]])"
      ]
     },
     "execution_count": 16,
     "metadata": {},
     "output_type": "execute_result"
    }
   ],
   "source": [
    "f_matrix"
   ]
  },
  {
   "cell_type": "markdown",
   "metadata": {},
   "source": [
    "To determine the **signature** of document `Hermione` according to permutation `perm` above, we just walk down the *permuted* column until we find the **first row index** corresponding to a feature that `Hermione` *contains*, viz. the 1 entry at index **0**. \n",
    "\n",
    "Doing this for all columns, the signatures for the documents (in order) according to `perm` are: 0, 0, 1, 2."
   ]
  },
  {
   "cell_type": "code",
   "execution_count": 17,
   "metadata": {},
   "outputs": [
    {
     "data": {
      "text/plain": [
       "array([0, 0, 1, 2])"
      ]
     },
     "execution_count": 17,
     "metadata": {},
     "output_type": "execute_result"
    }
   ],
   "source": [
    "np.argmin(1 - perm_mat, axis=0)"
   ]
  },
  {
   "cell_type": "markdown",
   "metadata": {},
   "source": [
    "## Questions\n",
    "\n",
    "- What are the signatures for the other documents according to the permutation $[6,4,2,0,5,3,1]?\n",
    "- What signatures are possible, in theory, for `Harry`?\n",
    "- What **common signatures** are possible for `Harry` and `Severus`?\n"
   ]
  },
  {
   "cell_type": "code",
   "execution_count": 18,
   "metadata": {},
   "outputs": [
    {
     "data": {
      "text/plain": [
       "array([[1, 0, 1, 1],\n",
       "       [0, 0, 1, 0],\n",
       "       [0, 1, 0, 0],\n",
       "       [1, 1, 0, 0],\n",
       "       [1, 1, 0, 0],\n",
       "       [0, 0, 1, 1],\n",
       "       [1, 1, 1, 1]])"
      ]
     },
     "execution_count": 18,
     "metadata": {},
     "output_type": "execute_result"
    }
   ],
   "source": [
    "f_matrix"
   ]
  },
  {
   "cell_type": "markdown",
   "metadata": {},
   "source": [
    "### Using numpy to compute document signatures\n",
    "\n",
    "We can do this in a variety of ways. For example:\n",
    "\n",
    "1. Start with a random permutation $p$ of the row indices. Apply the permutation $p$ to the matrix, then determine the signature by using `argmin` over the matrix with entries *flipped* (to find the first 1)."
   ]
  },
  {
   "cell_type": "code",
   "execution_count": 19,
   "metadata": {},
   "outputs": [
    {
     "data": {
      "text/plain": [
       "array([0, 0, 1, 1])"
      ]
     },
     "execution_count": 19,
     "metadata": {},
     "output_type": "execute_result"
    }
   ],
   "source": [
    "p_mat = rng.permutation(f_matrix, axis=0)\n",
    "np.argmin(1 - p_mat, axis=0)"
   ]
  },
  {
   "cell_type": "markdown",
   "metadata": {},
   "source": [
    "2. We need not actually permute the rows of the matrix at all - permuting rows can be very expensive with large data. Instead, we imagine that the rows are numbered from 1 through $m$, the number of features. A permutation can be thought of as supplying **weights** for the corresponding features. We multiply each feature by its weight, then find the smallest non-zero weighted entry in a column: that is the signature! "
   ]
  },
  {
   "cell_type": "code",
   "execution_count": 20,
   "metadata": {},
   "outputs": [
    {
     "data": {
      "text/plain": [
       "array([[1, 8, 1, 1],\n",
       "       [8, 8, 1, 8],\n",
       "       [8, 1, 8, 8],\n",
       "       [1, 1, 8, 8],\n",
       "       [1, 1, 8, 8],\n",
       "       [8, 8, 1, 1],\n",
       "       [1, 1, 1, 1]])"
      ]
     },
     "execution_count": 20,
     "metadata": {},
     "output_type": "execute_result"
    }
   ],
   "source": [
    "## Mask all 0 values\n",
    "n_rows = f_matrix.shape[0]\n",
    "masked = np.where(f_matrix == 0, n_rows+1, f_matrix)\n",
    "masked"
   ]
  },
  {
   "cell_type": "code",
   "execution_count": 21,
   "metadata": {},
   "outputs": [
    {
     "data": {
      "text/plain": [
       "array([[1, 0, 1, 1],\n",
       "       [0, 0, 1, 0],\n",
       "       [0, 1, 0, 0],\n",
       "       [1, 1, 0, 0],\n",
       "       [1, 1, 0, 0],\n",
       "       [0, 0, 1, 1],\n",
       "       [1, 1, 1, 1]])"
      ]
     },
     "execution_count": 21,
     "metadata": {},
     "output_type": "execute_result"
    }
   ],
   "source": [
    "f_matrix"
   ]
  },
  {
   "cell_type": "code",
   "execution_count": 22,
   "metadata": {},
   "outputs": [],
   "source": [
    "perm_arr = np.array(perm) + 1  # make elements non-zero\n",
    "permuted_tr = masked.T * perm_arr  # transpose to do elementwise multiplication"
   ]
  },
  {
   "cell_type": "code",
   "execution_count": 23,
   "metadata": {},
   "outputs": [
    {
     "data": {
      "text/plain": [
       "array([[ 4, 16,  8,  7,  3, 48,  5],\n",
       "       [32, 16,  1,  7,  3, 48,  5],\n",
       "       [ 4,  2,  8, 56, 24,  6,  5],\n",
       "       [ 4, 16,  8, 56, 24,  6,  5]])"
      ]
     },
     "execution_count": 23,
     "metadata": {},
     "output_type": "execute_result"
    }
   ],
   "source": [
    "permuted_tr"
   ]
  },
  {
   "cell_type": "code",
   "execution_count": 24,
   "metadata": {},
   "outputs": [],
   "source": [
    "signs = np.min(permuted_tr.T, axis=0)"
   ]
  },
  {
   "cell_type": "code",
   "execution_count": 25,
   "metadata": {},
   "outputs": [
    {
     "data": {
      "text/plain": [
       "array([3, 1, 2, 4])"
      ]
     },
     "execution_count": 25,
     "metadata": {},
     "output_type": "execute_result"
    }
   ],
   "source": [
    "signs"
   ]
  },
  {
   "cell_type": "markdown",
   "metadata": {},
   "source": [
    "## Discussion (5 minutes)\n",
    "\n",
    "We used the same permutation `perm` = [3,1,0,6,2,5,4] but seem to get different signatures. \n",
    "Why is that? Discuss in your group why this is happening. Understand the code in the cells below to frame the discussion.\n"
   ]
  },
  {
   "cell_type": "code",
   "execution_count": 26,
   "metadata": {},
   "outputs": [
    {
     "data": {
      "text/plain": [
       "array([2, 1, 4, 0, 6, 5, 3])"
      ]
     },
     "execution_count": 26,
     "metadata": {},
     "output_type": "execute_result"
    }
   ],
   "source": [
    "perm_inv = np.argsort(perm)\n",
    "perm_inv"
   ]
  },
  {
   "cell_type": "code",
   "execution_count": 27,
   "metadata": {},
   "outputs": [
    {
     "data": {
      "text/plain": [
       "array([0, 0, 1, 2])"
      ]
     },
     "execution_count": 27,
     "metadata": {},
     "output_type": "execute_result"
    }
   ],
   "source": [
    "np.argmin(1 - np.take(f_matrix, perm, axis=0), axis=0)"
   ]
  },
  {
   "cell_type": "markdown",
   "metadata": {
    "tags": []
   },
   "source": [
    "### Relationship between Jaccard similarity and signatures\n",
    "\n",
    "Given a *random* permutation $p$, the Jaccard similarity, $\\mbox{SIM}(i,j)$ is related to signatures by the following property:\n",
    "\n",
    "> $$\\mbox{Pr}\\{{\\mbox{sign}}_p(i) = {\\mbox{sign}}_p(j)\\} = \\mbox{SIM}(i,j)$$\n",
    "\n",
    "Thus, the likelihood of two documents being deemed similar (via their signatures) will be in accordance with their (mathematical) similarity!\n",
    "\n",
    "**Proof:** In class!"
   ]
  },
  {
   "cell_type": "markdown",
   "metadata": {},
   "source": [
    "## Minhashing\n",
    "\n",
    "Based on the proof, we can see that if we were to calculate a large number of **different signatures** (each corresponding to a different permutation), we can ***approximate the true Jaccard similarity of two documents as the fraction of permutations with matching signatures.*** "
   ]
  },
  {
   "cell_type": "markdown",
   "metadata": {},
   "source": [
    "Random permutations are very expensive to compute: it takes time linear in $n$ to obtain such a permutation. When $n$ is very large, this is infeasible.\n",
    "\n",
    "So, we **approximate the signature** by using a **random hash function** in\n",
    "place of a random permutation!\n",
    "\n",
    "> Use the **range** of a hash function applied to the feature indices as a **proxy** for permuting the indices of the features. "
   ]
  },
  {
   "cell_type": "markdown",
   "metadata": {},
   "source": [
    "#### Example\n",
    "\n",
    "Let's use our universal hash family!"
   ]
  },
  {
   "cell_type": "code",
   "execution_count": 35,
   "metadata": {},
   "outputs": [
    {
     "data": {
      "text/plain": [
       "1009"
      ]
     },
     "execution_count": 35,
     "metadata": {},
     "output_type": "execute_result"
    }
   ],
   "source": [
    "uhf = UHF(1000)\n",
    "uhf.p"
   ]
  },
  {
   "cell_type": "code",
   "execution_count": 40,
   "metadata": {},
   "outputs": [],
   "source": [
    "hfn = np.vectorize(uhf.make_hash(53))"
   ]
  },
  {
   "cell_type": "code",
   "execution_count": 41,
   "metadata": {},
   "outputs": [
    {
     "data": {
      "text/plain": [
       "array([14, 19, 22, 27, 32, 35, 40])"
      ]
     },
     "execution_count": 41,
     "metadata": {},
     "output_type": "execute_result"
    }
   ],
   "source": [
    "hfn(np.arange(7))"
   ]
  },
  {
   "cell_type": "markdown",
   "metadata": {},
   "source": [
    "## Minhash Signatures\n",
    "\n",
    "Minhashing using just one small signature will unfortunately produce both **false positives** and **false negatives** for similarity. We try to mitigate this as follows:\n",
    "\n",
    "- generate **many** small signatures using different hash functions\n",
    "\n",
    "*Minhash similarity* between two documents is the expected proportion of hash\n",
    "functions for which their small signatures agree!"
   ]
  },
  {
   "cell_type": "markdown",
   "metadata": {},
   "source": [
    "#### Jaccard Distance\n",
    "\n",
    "The Jaccard distance between two documents $i$ and $j$ is given by $$d(i,j)=1 -\n",
    "\\mbox{SIM}(i,j)$$. \n",
    "\n",
    "It is distance *metric*:\n",
    "\n",
    "- it equals 0 iff $D_i = D_j$\n",
    "- it is symmetric: $d(i,j)=d(j,i)$\n",
    "- it satisfies the *triangle inequality*: $d(i,j) ~<=~ d(i,k) ~+~ d(k,j)$"
   ]
  },
  {
   "cell_type": "markdown",
   "metadata": {},
   "source": [
    "#### Exercise\n",
    "\n",
    "- Compute signature matrices for a document using both random permutations and hash functions\n",
    "\n",
    "- Use the matrices to see how accurately they approximate the true jaccard similarity.\n"
   ]
  },
  {
   "cell_type": "code",
   "execution_count": 53,
   "metadata": {},
   "outputs": [],
   "source": [
    "def sign(mat, h_fn, p):\n",
    "    \"\"\"\n",
    "    Return array of signatures for all documents\n",
    "\n",
    "    The shape of the matrix is (m, n) where m = number of documents\n",
    "    and n = number of features. The hash function has domain equal to\n",
    "    the column indices 0, 1, ..., n-1\n",
    "    \n",
    "    mat (np.array): 0/1 matrix\n",
    "    h_fn (int -> int): universal hash function whose range is 0, ..., p-1\n",
    "    p (int): upper bound on values returned by hfn \n",
    "    \"\"\"\n",
    "    n_features = mat.shape[1]\n",
    "    masked = np.where(mat == 0, n_features + 1, mat)\n",
    "    print(masked)\n",
    "    s = masked*np.vectorize(h_fn)(np.arange(n_features))\n",
    "    return np.min(s, 1)\n",
    "    "
   ]
  },
  {
   "cell_type": "code",
   "execution_count": 54,
   "metadata": {},
   "outputs": [],
   "source": [
    "tbl_size = 53\n",
    "uhf = UHF(tbl_size)\n",
    "h = uhf.make_hash(tbl_size)"
   ]
  },
  {
   "cell_type": "code",
   "execution_count": 55,
   "metadata": {},
   "outputs": [
    {
     "data": {
      "text/plain": [
       "array([[1, 0, 0, 1, 1, 0, 1],\n",
       "       [0, 0, 1, 1, 1, 0, 1],\n",
       "       [1, 1, 0, 0, 0, 1, 1],\n",
       "       [1, 0, 0, 0, 0, 1, 1]])"
      ]
     },
     "execution_count": 55,
     "metadata": {},
     "output_type": "execute_result"
    }
   ],
   "source": [
    "f_matrix.T"
   ]
  },
  {
   "cell_type": "code",
   "execution_count": 56,
   "metadata": {},
   "outputs": [
    {
     "name": "stdout",
     "output_type": "stream",
     "text": [
      "[[1 8 8 1 1 8 1]\n",
      " [8 8 1 1 1 8 1]\n",
      " [1 1 8 8 8 1 1]\n",
      " [1 8 8 8 8 1 1]]\n"
     ]
    }
   ],
   "source": [
    "signatures = sign(f_matrix.T, h, tbl_size)"
   ]
  },
  {
   "cell_type": "code",
   "execution_count": 57,
   "metadata": {},
   "outputs": [
    {
     "data": {
      "text/plain": [
       "array([ 2,  2, 16, 16])"
      ]
     },
     "execution_count": 57,
     "metadata": {},
     "output_type": "execute_result"
    }
   ],
   "source": [
    "signatures"
   ]
  },
  {
   "cell_type": "code",
   "execution_count": null,
   "metadata": {},
   "outputs": [],
   "source": []
  }
 ],
 "metadata": {
  "kernelspec": {
   "display_name": "Python 3 (ipykernel)",
   "language": "python",
   "name": "python3"
  },
  "language_info": {
   "codemirror_mode": {
    "name": "ipython",
    "version": 3
   },
   "file_extension": ".py",
   "mimetype": "text/x-python",
   "name": "python",
   "nbconvert_exporter": "python",
   "pygments_lexer": "ipython3",
   "version": "3.12.4"
  }
 },
 "nbformat": 4,
 "nbformat_minor": 4
}
