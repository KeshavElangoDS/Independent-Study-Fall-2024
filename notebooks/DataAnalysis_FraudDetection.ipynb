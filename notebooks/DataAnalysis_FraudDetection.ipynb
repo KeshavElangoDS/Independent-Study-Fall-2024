{
 "cells": [
  {
   "cell_type": "markdown",
   "id": "9c9cbe36-36fc-446f-8c3f-a0088b7eb46a",
   "metadata": {},
   "source": [
    "# CREDIT CARD FRAUD DETECTION"
   ]
  },
  {
   "cell_type": "markdown",
   "id": "04507b6e-9b47-4863-ae02-6b51eed2bb86",
   "metadata": {},
   "source": [
    "The idea behind this study is to compare the credit card transactions for the same region for different timelines to determine if there is an improvement in fraud detection in the same region.\n"
   ]
  },
  {
   "cell_type": "markdown",
   "id": "6cf3e1d7-1bda-4b74-a1d4-11956762c89a",
   "metadata": {},
   "source": [
    "### Literature Review"
   ]
  },
  {
   "cell_type": "markdown",
   "id": "b6824df8-c790-4353-bf1c-31046978624f",
   "metadata": {},
   "source": [
    "Credit Card fraud is a critical issue for any banking firm. It has a huge impact on the customer and the banking firm. It has thus become an important factor to employ fraud detection and preventive measures to eliminate such losses.\n",
    "\n",
    "The issue with the usage of credit card data is that data is highly skewed wherein the amount of non fradulent transaction is higher in comparison to the amount of fradulent transcation.\n",
    "\n",
    "To tackle the problem of class imbalance, the data is re-sampled using the Synthetic Minority over-sampling Technique.\n",
    "\n",
    "The Synthetic Minority over-sampling TEchnique (SMOTE)\n",
    "is amongst of the most dominant techniques that are used to\n",
    "address the issue of class imbalance that is found in datasets\n",
    "such as the ones used to build credit card fraud detection ML - based\n",
    "models [1].\n",
    "\n",
    "These SMOTE method when coupled with the Adaptive Boosting (AdaBoost) technique increases the classification quality.\n",
    "\n",
    "As an ensemble method in machine learning, the\n",
    "AdaBoost algorithm uses the boosting technique known as\n",
    "Adaptive Boosting. Each instance is given a new set of\n",
    "weights, with the greater weights going to instances that were\n",
    "mistakenly categorised. During the data training process, N\n",
    "decision trees are generated. Priority is given to the record\n",
    "that was incorrectly classified during the previous model\n",
    "during the construction of the first decision tree/model Input\n",
    "for the second model is limited to the records in the first\n",
    "record.[2]\n",
    "\n",
    "Machine Learning plays an important role in efficient data processing of financial data. Several research methods employed supervised, unsupervised, hybrid machine learning models to detect the fradulent transactions. As most transactions are legitimate, for high precision prediction may be obtained without properly identifying the fradulent transaction. [3]\n"
   ]
  },
  {
   "cell_type": "markdown",
   "id": "b031ef7f",
   "metadata": {},
   "source": [
    "Research on fraud detection of credit card fraud transaction based on SMOTE-GAN is widespread and with several effective models developed over the years to tackle the issue. Maram Alamri and Mourad Ykhlef proposed a credit card fraud detection\n",
    "method based on sampling techniques [4][5].\n",
    "\n",
    "Their method involves the use of the SMOTE  algorithm to ensure a balanced representation of positive and negative samples in the training\n",
    "dataset. It depicts the different sampling techniques and methods of implementation. \n",
    "The paper also explains more on the imbalance in the data and their impact on the algorithm performance based on inaccuracies, wrong result and F1 values.\n",
    "Finally, they discuss the significance of sampling techniques in addressing the challenge of imbalanced data in credit card fraud detection ."
   ]
  },
  {
   "cell_type": "markdown",
   "id": "1208a0be-e21e-44d2-bf17-6edf90c8f2a3",
   "metadata": {},
   "source": [
    "[1] Ileberi, Emmanuel, Yanxia Sun, and Zenghui Wang. \"Performance evaluation of machine learning methods for credit card fraud detection using SMOTE and AdaBoost.\" IEEE Access 9 (2021): 165286-165294."
   ]
  },
  {
   "cell_type": "markdown",
   "id": "585f3265-16d1-4379-a54e-e5fabe524e87",
   "metadata": {},
   "source": [
    "[2] Credit Card Fraud Detection using AdaBoost\n",
    "Algorithm in Comparison with Various Machine\n",
    "Learning Algorithms to Measure Accuracy,\n",
    "Sensitivity, Specificity, Precision and F-score \n",
    "2022 International Conference on Business Analytics for Technology and Security (ICBATS) | 978-1-6654-0920-9/22/$31.00 ©2022 IEEE | DOI: 10.1109/ICBATS54253.2022.9759022"
   ]
  },
  {
   "cell_type": "markdown",
   "id": "a2466033",
   "metadata": {},
   "source": [
    "[3] Trivedi, Naresh Kumar, et al. \"An efficient credit card fraud detection model based on machine learning methods.\" International Journal of Advanced Science and Technology 29.5 (2020): 3414-3424."
   ]
  },
  {
   "cell_type": "markdown",
   "id": "7379cccc",
   "metadata": {},
   "source": [
    "[4] Alamri, Maram, and Mourad Ykhlef. \"Survey of credit card anomaly and fraud detection using sampling techniques.\" Electronics 11.23 (2022): 4003."
   ]
  },
  {
   "cell_type": "markdown",
   "id": "fe0c13a6",
   "metadata": {},
   "source": [
    "[5] Du, HaiChao, et al. \"A novel method for detecting credit card fraud problems.\" Plos one 19.3 (2024): e0294537."
   ]
  },
  {
   "cell_type": "markdown",
   "id": "702dbd7e",
   "metadata": {},
   "source": []
  }
 ],
 "metadata": {
  "kernelspec": {
   "display_name": "Python 3 (ipykernel)",
   "language": "python",
   "name": "python3"
  },
  "language_info": {
   "codemirror_mode": {
    "name": "ipython",
    "version": 3
   },
   "file_extension": ".py",
   "mimetype": "text/x-python",
   "name": "python",
   "nbconvert_exporter": "python",
   "pygments_lexer": "ipython3",
   "version": "3.12.4"
  }
 },
 "nbformat": 4,
 "nbformat_minor": 5
}
