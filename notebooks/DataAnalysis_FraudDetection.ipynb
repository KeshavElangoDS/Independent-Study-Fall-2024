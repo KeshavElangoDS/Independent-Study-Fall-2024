{
 "cells": [
  {
   "cell_type": "markdown",
   "id": "9c9cbe36-36fc-446f-8c3f-a0088b7eb46a",
   "metadata": {},
   "source": [
    "# CREDIT CARD FRAUD DETECTION"
   ]
  },
  {
   "cell_type": "markdown",
   "id": "04507b6e-9b47-4863-ae02-6b51eed2bb86",
   "metadata": {},
   "source": [
    "The idea behind this study is to compare the credit card transactions for the same region for different timelines to determine if there is an improvement in fraud detection in the same region.\n"
   ]
  },
  {
   "cell_type": "markdown",
   "id": "6cf3e1d7-1bda-4b74-a1d4-11956762c89a",
   "metadata": {},
   "source": [
    "### Literature Review"
   ]
  },
  {
   "cell_type": "markdown",
   "id": "b6824df8-c790-4353-bf1c-31046978624f",
   "metadata": {},
   "source": [
    "Credit Card fraud is a critical issue for any banking firm. It has a huge impact on the customer and the banking firm. It has thus become an important factor to employ fraud detection and preventive measures to eliminate such losses.\n",
    "\n",
    "The issue with the usage of credit card data is that data is highly skewed wherein the amount of non fradulent transaction is higher in comparison to the amount of fradulent transcation.\n",
    "\n",
    "To tackle the problem of class imbalance, the data is re-sampled using the Synthetic Minority over-sampling Technique.\n",
    "\n",
    "The Synthetic Minority over-sampling TEchnique (SMOTE)\r",
    "is amongst of the most dominant techniques that are used to\r",
    "address the issue of class imbalance that is found in datasets\r",
    "such as the ones used to build credit card fraud detection ML - based\r",
    "models [1].\n",
    "\n",
    "These SMOTE method when coupled with the Adaptive Boosting (AdaBoost) technique increases the classification quality.\n",
    "\n",
    "As an ensemble method in machine learning, the\r",
    "AdaBoost algorithm uses the boosting technique known as\r",
    "Adaptive Boosting. Each instance is given a new set of\r",
    "weights, with the greater weights going to instances that were\r",
    "mistakenly categorised. During the data training process, N\r",
    "decision trees are generated. Priority is given to the record\r",
    "that was incorrectly classified during the previous model\r",
    "during the construction of the first decision tree/model Input\r",
    "for the second model is limited to the records in the first\r",
    "record.[2]\n",
    "\n",
    "Machine Learning plays an important role in efficient data processing of financial data."
   ]
  },
  {
   "cell_type": "markdown",
   "id": "1208a0be-e21e-44d2-bf17-6edf90c8f2a3",
   "metadata": {},
   "source": [
    "[1] Performance Evaluation of Machine Learning\r",
    "Methods for Credit Card Fraud Detection\r",
    "Using SMOTE and AdaBoost : EMMANUEL ILEBERI1 , YANXIA SUN 1, (Senior Member, IEEE), AND\r",
    "ZENGHUI WANG 2, (Member, IEEE)\r",
    "1Department of Electrical and Electronic Engineering Science, University of Johannesburg, Johannesburg 2094, South Africa\r",
    "2Department of Electrical Engineering, University of South Africa, Florida 1709, South Africa\r",
    "Corresponding author: Zenghui Wang (wangzengh@gmail.com) \n",
    "Digital Object Identifier 10.1109/ACCESS.2021.3134330"
   ]
  },
  {
   "cell_type": "markdown",
   "id": "585f3265-16d1-4379-a54e-e5fabe524e87",
   "metadata": {},
   "source": [
    "[2] Credit Card Fraud Detection using AdaBoost\n",
    "Algorithm in Comparison with Various Machine\n",
    "Learning Algorithms to Measure Accuracy,\n",
    "Sensitivity, Specificity, Precision and F-score \n",
    "2022 International Conference on Business Analytics for Technology and Security (ICBATS) | 978-1-6654-0920-9/22/$31.00 ©2022 IEEE | DOI: 10.1109/ICBATS54253.2022.9759022"
   ]
  }
 ],
 "metadata": {
  "kernelspec": {
   "display_name": "Python 3 (ipykernel)",
   "language": "python",
   "name": "python3"
  },
  "language_info": {
   "codemirror_mode": {
    "name": "ipython",
    "version": 3
   },
   "file_extension": ".py",
   "mimetype": "text/x-python",
   "name": "python",
   "nbconvert_exporter": "python",
   "pygments_lexer": "ipython3",
   "version": "3.12.4"
  }
 },
 "nbformat": 4,
 "nbformat_minor": 5
}
